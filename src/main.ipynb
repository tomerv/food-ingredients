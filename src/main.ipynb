{
 "cells": [
  {
   "cell_type": "code",
   "execution_count": 1,
   "metadata": {},
   "outputs": [],
   "source": [
    "import ipywidgets as widgets\n",
    "from solve import solve, read_file\n",
    "from io import StringIO\n",
    "\n",
    "\n",
    "# maximal number of ingredients\n",
    "n = 15"
   ]
  },
  {
   "cell_type": "code",
   "execution_count": 2,
   "metadata": {
    "scrolled": false
   },
   "outputs": [
    {
     "data": {
      "application/vnd.jupyter.widget-view+json": {
       "model_id": "226856bc6ab8494a8029de8efcc520db",
       "version_major": 2,
       "version_minor": 0
      },
      "text/plain": [
       "HBox(children=(Checkbox(value=False, layout=Layout(width='auto')), Text(value='Ingredient 1:', disabled=True, …"
      ]
     },
     "metadata": {},
     "output_type": "display_data"
    },
    {
     "data": {
      "application/vnd.jupyter.widget-view+json": {
       "model_id": "3726b17048aa4d9e8c3a9b883357f9fe",
       "version_major": 2,
       "version_minor": 0
      },
      "text/plain": [
       "HBox(children=(Checkbox(value=False, layout=Layout(width='auto')), Text(value='Ingredient 2:', disabled=True, …"
      ]
     },
     "metadata": {},
     "output_type": "display_data"
    },
    {
     "data": {
      "application/vnd.jupyter.widget-view+json": {
       "model_id": "4af6e371f87d4302ac4e9accc7da7b05",
       "version_major": 2,
       "version_minor": 0
      },
      "text/plain": [
       "HBox(children=(Checkbox(value=False, layout=Layout(width='auto')), Text(value='Ingredient 3:', disabled=True, …"
      ]
     },
     "metadata": {},
     "output_type": "display_data"
    },
    {
     "data": {
      "application/vnd.jupyter.widget-view+json": {
       "model_id": "7eb45eb76c7c44f3ba35337066e90bd4",
       "version_major": 2,
       "version_minor": 0
      },
      "text/plain": [
       "HBox(children=(Checkbox(value=False, layout=Layout(width='auto')), Text(value='Ingredient 4:', disabled=True, …"
      ]
     },
     "metadata": {},
     "output_type": "display_data"
    },
    {
     "data": {
      "application/vnd.jupyter.widget-view+json": {
       "model_id": "4774d54108394522bc332f6efb79e9bf",
       "version_major": 2,
       "version_minor": 0
      },
      "text/plain": [
       "HBox(children=(Checkbox(value=False, layout=Layout(width='auto')), Text(value='Ingredient 5:', disabled=True, …"
      ]
     },
     "metadata": {},
     "output_type": "display_data"
    },
    {
     "data": {
      "application/vnd.jupyter.widget-view+json": {
       "model_id": "a772986a1b28434b88d38d6839db5223",
       "version_major": 2,
       "version_minor": 0
      },
      "text/plain": [
       "HBox(children=(Checkbox(value=False, layout=Layout(width='auto')), Text(value='Ingredient 6:', disabled=True, …"
      ]
     },
     "metadata": {},
     "output_type": "display_data"
    },
    {
     "data": {
      "application/vnd.jupyter.widget-view+json": {
       "model_id": "1ee284c3cc7e47deb99dde106233405d",
       "version_major": 2,
       "version_minor": 0
      },
      "text/plain": [
       "HBox(children=(Checkbox(value=False, layout=Layout(width='auto')), Text(value='Ingredient 7:', disabled=True, …"
      ]
     },
     "metadata": {},
     "output_type": "display_data"
    },
    {
     "data": {
      "application/vnd.jupyter.widget-view+json": {
       "model_id": "b87936baf09a44d1baf2545da7a97ff2",
       "version_major": 2,
       "version_minor": 0
      },
      "text/plain": [
       "HBox(children=(Checkbox(value=False, layout=Layout(width='auto')), Text(value='Ingredient 8:', disabled=True, …"
      ]
     },
     "metadata": {},
     "output_type": "display_data"
    },
    {
     "data": {
      "application/vnd.jupyter.widget-view+json": {
       "model_id": "f33833a915cf4941b98176cbfd532b42",
       "version_major": 2,
       "version_minor": 0
      },
      "text/plain": [
       "HBox(children=(Checkbox(value=False, layout=Layout(width='auto')), Text(value='Ingredient 9:', disabled=True, …"
      ]
     },
     "metadata": {},
     "output_type": "display_data"
    },
    {
     "data": {
      "application/vnd.jupyter.widget-view+json": {
       "model_id": "e283d860bdd043579cf1fc63180fa32f",
       "version_major": 2,
       "version_minor": 0
      },
      "text/plain": [
       "HBox(children=(Checkbox(value=False, layout=Layout(width='auto')), Text(value='Ingredient 10:', disabled=True,…"
      ]
     },
     "metadata": {},
     "output_type": "display_data"
    },
    {
     "data": {
      "application/vnd.jupyter.widget-view+json": {
       "model_id": "d60ee28b935b4bbfa478b37b284957b5",
       "version_major": 2,
       "version_minor": 0
      },
      "text/plain": [
       "HBox(children=(Checkbox(value=False, layout=Layout(width='auto')), Text(value='Ingredient 11:', disabled=True,…"
      ]
     },
     "metadata": {},
     "output_type": "display_data"
    },
    {
     "data": {
      "application/vnd.jupyter.widget-view+json": {
       "model_id": "406af105312f4add89e7a1e09ad4920e",
       "version_major": 2,
       "version_minor": 0
      },
      "text/plain": [
       "HBox(children=(Checkbox(value=False, layout=Layout(width='auto')), Text(value='Ingredient 12:', disabled=True,…"
      ]
     },
     "metadata": {},
     "output_type": "display_data"
    },
    {
     "data": {
      "application/vnd.jupyter.widget-view+json": {
       "model_id": "7b0ba3c4b1dd4b09a859d71668077a4f",
       "version_major": 2,
       "version_minor": 0
      },
      "text/plain": [
       "HBox(children=(Checkbox(value=False, layout=Layout(width='auto')), Text(value='Ingredient 13:', disabled=True,…"
      ]
     },
     "metadata": {},
     "output_type": "display_data"
    },
    {
     "data": {
      "application/vnd.jupyter.widget-view+json": {
       "model_id": "f821771537b140b9a696ae4f1982c31d",
       "version_major": 2,
       "version_minor": 0
      },
      "text/plain": [
       "HBox(children=(Checkbox(value=False, layout=Layout(width='auto')), Text(value='Ingredient 14:', disabled=True,…"
      ]
     },
     "metadata": {},
     "output_type": "display_data"
    },
    {
     "data": {
      "application/vnd.jupyter.widget-view+json": {
       "model_id": "d5006ef7c8c3466a9ef7ae37c74ff6fb",
       "version_major": 2,
       "version_minor": 0
      },
      "text/plain": [
       "HBox(children=(Checkbox(value=False, layout=Layout(width='auto')), Text(value='Ingredient 15:', disabled=True,…"
      ]
     },
     "metadata": {},
     "output_type": "display_data"
    },
    {
     "data": {
      "application/vnd.jupyter.widget-view+json": {
       "model_id": "697b2621f5374c5d9240343a78af6c83",
       "version_major": 2,
       "version_minor": 0
      },
      "text/plain": [
       "FileUpload(value={}, description='Load from file')"
      ]
     },
     "metadata": {},
     "output_type": "display_data"
    },
    {
     "data": {
      "application/vnd.jupyter.widget-view+json": {
       "model_id": "05fa864e750f4e84812bd79f4c7e0046",
       "version_major": 2,
       "version_minor": 0
      },
      "text/plain": [
       "Button(description='Solve', icon='check', style=ButtonStyle(), tooltip='Solve')"
      ]
     },
     "metadata": {},
     "output_type": "display_data"
    },
    {
     "data": {
      "application/vnd.jupyter.widget-view+json": {
       "model_id": "394eda8a91004d58b5d717eedefdaeed",
       "version_major": 2,
       "version_minor": 0
      },
      "text/plain": [
       "HTML(value='')"
      ]
     },
     "metadata": {},
     "output_type": "display_data"
    }
   ],
   "source": [
    "class Ingredient():\n",
    "    def __init__(self, default_name):\n",
    "        self.is_available = widgets.Checkbox(\n",
    "            value=False,\n",
    "            description='',\n",
    "            disabled=False,\n",
    "            layout=widgets.Layout(width='auto')\n",
    "        )\n",
    "        self.name = widgets.Text(\n",
    "            value=f'{default_name}:',\n",
    "            placeholder='Ingredient name',\n",
    "            description='',\n",
    "            disabled=True,\n",
    "            layout=widgets.Layout(width='15rem')\n",
    "        )\n",
    "        self.is_known = widgets.Checkbox(\n",
    "            value=False,\n",
    "            description='known',\n",
    "            disabled=True,\n",
    "            layout=widgets.Layout(width='auto')\n",
    "        )\n",
    "        self.value = widgets.BoundedFloatText(\n",
    "            value=0.0,\n",
    "            min=0.0,\n",
    "            max=100.0,\n",
    "            step=0.1,\n",
    "            description='',\n",
    "            disabled=True,\n",
    "            layout=widgets.Layout(width='6rem')\n",
    "        )\n",
    "        self.result = widgets.Label(\n",
    "            value='',\n",
    "            layout=widgets.Layout(width='20rem')\n",
    "        )\n",
    "        def refresh_ui(change):\n",
    "            self.name.disabled = not self.is_available.value\n",
    "            self.is_known.disabled = not self.is_available.value\n",
    "            self.name.disabled = not self.is_available.value\n",
    "            self.value.disabled = not self.is_available.value or not self.is_known.value\n",
    "        self.is_available.observe(refresh_ui, names='value')\n",
    "        self.is_known.observe(refresh_ui, names='value')\n",
    "        hbox = widgets.HBox([self.is_available, self.name, self.is_known, self.value, widgets.Label(value=\"%\"), self.result])\n",
    "        display(hbox)\n",
    "\n",
    "\n",
    "ingredients = [Ingredient(f\"Ingredient {i+1}\") for i in range(n)]\n",
    "\n",
    "load_button = widgets.FileUpload(\n",
    "    description='Load from file',\n",
    "    tooltip='Load from file',\n",
    "    disabled=False,\n",
    "    button_style='', # change to 'success' or 'warning' after clicking\n",
    "    multiple=False\n",
    ")\n",
    "\n",
    "solve_button = widgets.Button(\n",
    "    description='Solve',\n",
    "    tooltip='Solve',\n",
    "    disabled=False,\n",
    "    button_style='', # change to 'success' or 'warning' after clicking\n",
    "    icon='check'\n",
    ")\n",
    "\n",
    "message = widgets.HTML(value=\"\")\n",
    "display(load_button, solve_button, message)\n",
    "\n",
    "\n",
    "def do_load(change):\n",
    "    # we don't have a file, so we use StringIO\n",
    "    file_contents = load_button.data[0].decode('utf-8')\n",
    "    f = StringIO(file_contents)\n",
    "    try:\n",
    "        names, amounts = read_file(f)\n",
    "    except ValueError as e:\n",
    "        message.value = str(e)\n",
    "        load_button.button_style = 'danger'\n",
    "        return\n",
    "    if len(names) > n:\n",
    "        message.value = f\"Error: This notebook supports up to {n} ingredients, but the selected file has {len(names)}\"\n",
    "        load_button.button_style = 'danger'\n",
    "        return\n",
    "    for i in range(n):\n",
    "        ingredients[i].is_available.value = False\n",
    "        ingredients[i].name.value = ''\n",
    "        ingredients[i].is_known.value = False\n",
    "        ingredients[i].value.value = 0\n",
    "        ingredients[i].result.value = ''\n",
    "        if i < len(names):\n",
    "            ingredients[i].is_available.value = True\n",
    "            ingredients[i].name.value = names[i]\n",
    "            if amounts[i] is not None:\n",
    "                ingredients[i].is_known.value = True\n",
    "                percentage = round(amounts[i] * 1000) / 10.\n",
    "                ingredients[i].value.value = percentage\n",
    "    load_button.button_style = 'success'\n",
    "    solve_button.button_style = ''\n",
    "    message.value = f\"Loaded file\"\n",
    "\n",
    "\n",
    "load_button.observe(do_load, names='value')\n",
    "\n",
    "\n",
    "def do_solve(b):\n",
    "    amounts = [ingredients[i].value.value/100. if ingredients[i].is_known.value else None\n",
    "               for i in range(n) if ingredients[i].is_available.value]\n",
    "    try:\n",
    "        res = solve(amounts)\n",
    "    except ValueError as e:\n",
    "        solve_button.button_style = 'danger'\n",
    "        message.value = f\"\"\"\n",
    "Error solving: {e}<br>\n",
    "Make sure that the amounts are correct and sorted from largest to smallest.\n",
    "\"\"\"\n",
    "        return\n",
    "    solve_button.button_style = 'success'\n",
    "    for i in range(n):\n",
    "        if not ingredients[i].is_available.value:\n",
    "            continue\n",
    "        low, high = res[i]\n",
    "        if low < high:\n",
    "            ingredients[i].result.value = f\"{low: >7.2%} -{high: >7.2%}\"\n",
    "        else:\n",
    "            ingredients[i].result.value = f\"     {low: >7.2%}\"\n",
    "\n",
    "\n",
    "solve_button.on_click(do_solve)\n"
   ]
  }
 ],
 "metadata": {
  "kernelspec": {
   "display_name": "Python 3",
   "language": "python",
   "name": "python3"
  },
  "language_info": {
   "codemirror_mode": {
    "name": "ipython",
    "version": 3
   },
   "file_extension": ".py",
   "mimetype": "text/x-python",
   "name": "python",
   "nbconvert_exporter": "python",
   "pygments_lexer": "ipython3",
   "version": "3.7.4"
  }
 },
 "nbformat": 4,
 "nbformat_minor": 4
}
